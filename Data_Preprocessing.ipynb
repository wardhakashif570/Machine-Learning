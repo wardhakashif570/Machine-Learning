{
  "nbformat": 4,
  "nbformat_minor": 0,
  "metadata": {
    "colab": {
      "name": "Data Preprocessing.ipynb",
      "provenance": [],
      "authorship_tag": "ABX9TyMXOSdL0SW/OxLDi7GAMNqX",
      "include_colab_link": true
    },
    "kernelspec": {
      "name": "python3",
      "display_name": "Python 3"
    }
  },
  "cells": [
    {
      "cell_type": "markdown",
      "metadata": {
        "id": "view-in-github",
        "colab_type": "text"
      },
      "source": [
        "<a href=\"https://colab.research.google.com/github/wardhakashif570/Machine-Learning/blob/main/Data_Preprocessing.ipynb\" target=\"_parent\"><img src=\"https://colab.research.google.com/assets/colab-badge.svg\" alt=\"Open In Colab\"/></a>"
      ]
    },
    {
      "cell_type": "markdown",
      "metadata": {
        "id": "YGTwC8RVum95"
      },
      "source": [
        "Data Preprocessing\n",
        "\n",
        "\n",
        "Agenda\n",
        "Introduction to Preprocessing\n",
        "StandardScaler\n",
        "MinMaxScaler\n",
        "RobustScaler\n",
        "Normalization\n",
        "Binarization\n",
        "Encoding Categorical (Ordinal & Nominal) Features\n",
        "Imputation\n",
        "Polynomial Features\n",
        "Custom Transformer\n",
        "Text Processing\n",
        "CountVectorizer\n",
        "TfIdf\n",
        "HashingVectorizer\n",
        "Image using skimage\n",
        "WHERE DO WE USE THEM AND WHERE DON'T WE USE THEM?"
      ]
    },
    {
      "cell_type": "markdown",
      "metadata": {
        "id": "Rkebwe6ru_lF"
      },
      "source": [
        "Common import\n"
      ]
    },
    {
      "cell_type": "code",
      "metadata": {
        "id": "IPIfT8l3vOIK"
      },
      "source": [
        "\n",
        "import numpy as np\n",
        "import pandas as pd\n",
        "import seaborn as sns; sns.set(color_codes=True)\n",
        "from mpl_toolkits.mplot3d import Axes3D\n",
        "import matplotlib.pyplot as plt\n",
        "%matplotlib inline"
      ],
      "execution_count": 4,
      "outputs": []
    },
    {
      "cell_type": "markdown",
      "metadata": {
        "id": "pFPB53Cb0Lrl"
      },
      "source": [
        "1. Introduction to PreProcessing\n",
        "Learning algorithms have affinity towards certain pattern of data.\n",
        "Unscaled or unstandardized data have might have unacceptable prediction\n",
        "Learning algorithms understands only number, converting text image to number is required\n",
        "Preprocessing refers to transformation before feeding to machine learning"
      ]
    },
    {
      "cell_type": "markdown",
      "metadata": {
        "id": "xoBCAssE0Tn-"
      },
      "source": [
        "2. StandardScaler\n",
        "Standardization is a preprocessing method used to transform continuous data to make it look normally distributed.\n",
        "\n",
        "In scikit-learn, this is often a necessary step, because many models assume that the data you are training on is normally distributed, and if it isn't, you risk biasing your model.\n",
        "\n",
        "The StandardScaler assumes your data is normally distributed (continuous numerical data) within each feature and will scale them such that the distribution is now centred around 0, with a standard deviation of 1.\n",
        "Calculate - Subtract mean of column & div by standard deviation\n",
        "\n",
        "\n",
        "When to standardize:\n",
        "\n",
        "Models in linear space\n",
        "Dataset features have high variance\n",
        "If data is not normally distributed, this is not the best scaler to use."
      ]
    },
    {
      "cell_type": "code",
      "metadata": {
        "id": "QOS_gvYk0YA7"
      },
      "source": [
        "\n",
        "#Generating normally distributed data\n",
        "\n",
        "df = pd.DataFrame({\n",
        "    'x1': np.random.normal(0, 2, 10000),\n",
        "    'x2': np.random.normal(5, 3, 10000),\n",
        "    'x3': np.random.normal(-5, 5, 10000)\n",
        "})"
      ],
      "execution_count": 6,
      "outputs": []
    },
    {
      "cell_type": "code",
      "metadata": {
        "id": "McMF77LM0cu2",
        "outputId": "9f4daef5-6427-4128-9ef9-247612f777a7",
        "colab": {
          "base_uri": "https://localhost:8080/",
          "height": 285
        }
      },
      "source": [
        "# plotting data\n",
        "\n",
        "df.plot.kde()"
      ],
      "execution_count": 7,
      "outputs": [
        {
          "output_type": "execute_result",
          "data": {
            "text/plain": [
              "<matplotlib.axes._subplots.AxesSubplot at 0x7fc85d96e710>"
            ]
          },
          "metadata": {
            "tags": []
          },
          "execution_count": 7
        },
        {
          "output_type": "display_data",
          "data": {
            "image/png": "[encoded data removed]",
            "text/plain": [
              "<Figure size 432x288 with 1 Axes>"
            ]
          },
          "metadata": {
            "tags": [],
            "needs_background": "light"
          }
        }
      ]
    },
    {
      "cell_type": "code",
      "metadata": {
        "id": "qkC57IiD0k_l"
      },
      "source": [
        "\n",
        "from sklearn.preprocessing import StandardScaler\n",
        "ss = StandardScaler()"
      ],
      "execution_count": 8,
      "outputs": []
    },
    {
      "cell_type": "code",
      "metadata": {
        "id": "8WpKEPBK0pJr"
      },
      "source": [
        "data_tf = ss.fit_transform(df)"
      ],
      "execution_count": 9,
      "outputs": []
    },
    {
      "cell_type": "code",
      "metadata": {
        "id": "EGKOsouG0rVi"
      },
      "source": [
        "df = pd.DataFrame(data_tf, columns=['x1','x2','x3'])"
      ],
      "execution_count": 10,
      "outputs": []
    },
    {
      "cell_type": "code",
      "metadata": {
        "id": "jgWE0JRQ0tVY",
        "outputId": "e5aa42ee-8d9c-433a-dc72-0a0b8f4d81eb",
        "colab": {
          "base_uri": "https://localhost:8080/",
          "height": 285
        }
      },
      "source": [
        "\n",
        "df.plot.kde()"
      ],
      "execution_count": 11,
      "outputs": [
        {
          "output_type": "execute_result",
          "data": {
            "text/plain": [
              "<matplotlib.axes._subplots.AxesSubplot at 0x7fc85c0db358>"
            ]
          },
          "metadata": {
            "tags": []
          },
          "execution_count": 11
        },
        {
          "output_type": "display_data",
          "data": {
            "image/png": "[encoded data removed]",
            "text/plain": [
              "<Figure size 432x288 with 1 Axes>"
            ]
          },
          "metadata": {
            "tags": [],
            "needs_background": "light"
          }
        }
      ]
    },
    {
      "cell_type": "markdown",
      "metadata": {
        "id": "93GlwTBA1Alp"
      },
      "source": [
        "3. MinMaxScaler\n",
        "One of the most popular\n",
        "Calculate - Subtract min of column & div by difference between max & min\n",
        "\n",
        "\n",
        "Data shifts between 0 & 1\n",
        "If distribution not suitable for StandardScaler, this scaler works out.\n",
        "Sensitive to outliers"
      ]
    },
    {
      "cell_type": "code",
      "metadata": {
        "id": "ctiWTgSZ1BOD"
      },
      "source": [
        "df = pd.DataFrame({\n",
        "    # positive skew\n",
        "    'x1': np.random.chisquare(8, 1000),\n",
        "    # negative skew \n",
        "    'x2': np.random.beta(8, 2, 1000) * 40,\n",
        "    # no skew\n",
        "    'x3': np.random.normal(50, 3, 1000)\n",
        "})"
      ],
      "execution_count": 12,
      "outputs": []
    },
    {
      "cell_type": "code",
      "metadata": {
        "id": "mqxh3f7u1G0V",
        "outputId": "af78e592-ae1f-47d7-90b9-823308ead110",
        "colab": {
          "base_uri": "https://localhost:8080/",
          "height": 285
        }
      },
      "source": [
        "df.plot.kde()"
      ],
      "execution_count": 13,
      "outputs": [
        {
          "output_type": "execute_result",
          "data": {
            "text/plain": [
              "<matplotlib.axes._subplots.AxesSubplot at 0x7fc85be03198>"
            ]
          },
          "metadata": {
            "tags": []
          },
          "execution_count": 13
        },
        {
          "output_type": "display_data",
          "data": {
            "image/png": "[encoded data removed]",
            "text/plain": [
              "<Figure size 432x288 with 1 Axes>"
            ]
          },
          "metadata": {
            "tags": [],
            "needs_background": "light"
          }
        }
      ]
    },
    {
      "cell_type": "code",
      "metadata": {
        "id": "vFHWvDig1I40"
      },
      "source": [
        "from sklearn.preprocessing import MinMaxScaler"
      ],
      "execution_count": 14,
      "outputs": []
    },
    {
      "cell_type": "code",
      "metadata": {
        "id": "oeVZUkfE1OsV"
      },
      "source": [
        "mm = MinMaxScaler()\n",
        "data_tf = mm.fit_transform(df)"
      ],
      "execution_count": 15,
      "outputs": []
    },
    {
      "cell_type": "code",
      "metadata": {
        "id": "nK5YV82b1RPC",
        "outputId": "5e6c96c5-a3ac-4313-9976-07cae5215452",
        "colab": {
          "base_uri": "https://localhost:8080/",
          "height": 285
        }
      },
      "source": [
        "df = pd.DataFrame(data_tf,columns=['x1','x2','x3'])\n",
        "df.plot.kde()"
      ],
      "execution_count": 16,
      "outputs": [
        {
          "output_type": "execute_result",
          "data": {
            "text/plain": [
              "<matplotlib.axes._subplots.AxesSubplot at 0x7fc85bd2f128>"
            ]
          },
          "metadata": {
            "tags": []
          },
          "execution_count": 16
        },
        {
          "output_type": "display_data",
          "data": {
            "image/png": "[encoded data removed]",
            "text/plain": [
              "<Figure size 432x288 with 1 Axes>"
            ]
          },
          "metadata": {
            "tags": [],
            "needs_background": "light"
          }
        }
      ]
    },
    {
      "cell_type": "markdown",
      "metadata": {
        "id": "_4AptYVG1o92"
      },
      "source": [
        "4. Robust Scaler\n",
        "Suited for data with outliers\n",
        "Calculate by subtracting 1st-quartile & div by difference between 3rd-quartile & 1st-quartile\n"
      ]
    },
    {
      "cell_type": "code",
      "metadata": {
        "id": "z7R7Oqsr1pbN"
      },
      "source": [
        "df = pd.DataFrame({\n",
        "    # Distribution with lower outliers\n",
        "    'x1': np.concatenate([np.random.normal(20, 1, 1000), np.random.normal(1, 1, 25)]),\n",
        "    # Distribution with higher outliers\n",
        "    'x2': np.concatenate([np.random.normal(30, 1, 1000), np.random.normal(50, 1, 25)]),\n",
        "})"
      ],
      "execution_count": 17,
      "outputs": []
    },
    {
      "cell_type": "code",
      "metadata": {
        "id": "ONQQPcpG1sDC",
        "outputId": "b1e2cd64-eb30-472b-b88f-cafd2e7a0015",
        "colab": {
          "base_uri": "https://localhost:8080/",
          "height": 285
        }
      },
      "source": [
        "df.plot.kde()"
      ],
      "execution_count": 18,
      "outputs": [
        {
          "output_type": "execute_result",
          "data": {
            "text/plain": [
              "<matplotlib.axes._subplots.AxesSubplot at 0x7fc85bd9c390>"
            ]
          },
          "metadata": {
            "tags": []
          },
          "execution_count": 18
        },
        {
          "output_type": "display_data",
          "data": {
            "image/png": "[encoded data removed]",
            "text/plain": [
              "<Figure size 432x288 with 1 Axes>"
            ]
          },
          "metadata": {
            "tags": [],
            "needs_background": "light"
          }
        }
      ]
    },
    {
      "cell_type": "code",
      "metadata": {
        "id": "7SGjYSKg1uAe"
      },
      "source": [
        "from sklearn.preprocessing import RobustScaler\n",
        "robustscaler = RobustScaler()"
      ],
      "execution_count": 19,
      "outputs": []
    },
    {
      "cell_type": "code",
      "metadata": {
        "id": "odXTeIoA10tG"
      },
      "source": [
        "data_tf = robustscaler.fit_transform(df)\n",
        "df = pd.DataFrame(data_tf, columns=['x1','x2'])"
      ],
      "execution_count": 20,
      "outputs": []
    },
    {
      "cell_type": "code",
      "metadata": {
        "id": "lOKgfvOO13s7",
        "outputId": "ffd228eb-2640-4312-d304-d4d9336c8a27",
        "colab": {
          "base_uri": "https://localhost:8080/",
          "height": 285
        }
      },
      "source": [
        "df.plot.kde()"
      ],
      "execution_count": 21,
      "outputs": [
        {
          "output_type": "execute_result",
          "data": {
            "text/plain": [
              "<matplotlib.axes._subplots.AxesSubplot at 0x7fc85bc8def0>"
            ]
          },
          "metadata": {
            "tags": []
          },
          "execution_count": 21
        },
        {
          "output_type": "display_data",
          "data": {
            "image/png": "[encoded data removed]",
            "text/plain": [
              "<Figure size 432x288 with 1 Axes>"
            ]
          },
          "metadata": {
            "tags": [],
            "needs_background": "light"
          }
        }
      ]
    },
    {
      "cell_type": "markdown",
      "metadata": {
        "id": "zoqnMivz1_-Q"
      },
      "source": [
        "5. Normalizer\n",
        "Each parameter value is obtained by dividing by magnitude\n",
        "\n",
        "\n",
        "Centralizes data to origin"
      ]
    },
    {
      "cell_type": "code",
      "metadata": {
        "id": "DSbTtxDy2BTE"
      },
      "source": [
        "df = pd.DataFrame({\n",
        "    'x1': np.random.randint(-100, 100, 1000).astype(float),\n",
        "    'y1': np.random.randint(-80, 80, 1000).astype(float),\n",
        "    'z1': np.random.randint(-150, 150, 1000).astype(float),\n",
        "})"
      ],
      "execution_count": 23,
      "outputs": []
    },
    {
      "cell_type": "code",
      "metadata": {
        "id": "Quf6Eiyd2EQF",
        "outputId": "f9bb5e73-1d10-4273-9869-550a3068d852",
        "colab": {
          "base_uri": "https://localhost:8080/",
          "height": 265
        }
      },
      "source": [
        "fig = plt.figure()\n",
        "ax = plt.axes(projection='3d')\n",
        "ax.scatter3D(df.x1, df.y1, df.z1)"
      ],
      "execution_count": 24,
      "outputs": [
        {
          "output_type": "execute_result",
          "data": {
            "text/plain": [
              "<mpl_toolkits.mplot3d.art3d.Path3DCollection at 0x7fc85bbb8cf8>"
            ]
          },
          "metadata": {
            "tags": []
          },
          "execution_count": 24
        },
        {
          "output_type": "display_data",
          "data": {
            "image/png": "[encoded data removed]",
            "text/plain": [
              "<Figure size 432x288 with 1 Axes>"
            ]
          },
          "metadata": {
            "tags": [],
            "needs_background": "light"
          }
        }
      ]
    },
    {
      "cell_type": "code",
      "metadata": {
        "id": "rJh1PPPc2QSE"
      },
      "source": [
        "from sklearn.preprocessing import Normalizer"
      ],
      "execution_count": 27,
      "outputs": []
    },
    {
      "cell_type": "code",
      "metadata": {
        "id": "GJlacfG32Xgo"
      },
      "source": [
        "normalizer = Normalizer()\n",
        "data_tf = normalizer.fit_transform(df)"
      ],
      "execution_count": 28,
      "outputs": []
    },
    {
      "cell_type": "code",
      "metadata": {
        "id": "XK9UzTKD2dHx"
      },
      "source": [
        "\n",
        "df = pd.DataFrame(data_tf, columns=['x1','y1','z1'])"
      ],
      "execution_count": 29,
      "outputs": []
    },
    {
      "cell_type": "code",
      "metadata": {
        "id": "XxaGZBcZ2fWF",
        "outputId": "fc9bb65f-8b74-45f7-b5dd-d6b4ff4943b7",
        "colab": {
          "base_uri": "https://localhost:8080/",
          "height": 265
        }
      },
      "source": [
        "ax = plt.axes(projection='3d')\n",
        "ax.scatter3D(df.x1, df.y1, df.z1)"
      ],
      "execution_count": 30,
      "outputs": [
        {
          "output_type": "execute_result",
          "data": {
            "text/plain": [
              "<mpl_toolkits.mplot3d.art3d.Path3DCollection at 0x7fc857ae6da0>"
            ]
          },
          "metadata": {
            "tags": []
          },
          "execution_count": 30
        },
        {
          "output_type": "display_data",
          "data": {
            "image/png": "[encoded data removed]",
            "text/plain": [
              "<Figure size 432x288 with 1 Axes>"
            ]
          },
          "metadata": {
            "tags": [],
            "needs_background": "light"
          }
        }
      ]
    },
    {
      "cell_type": "markdown",
      "metadata": {
        "id": "hulCYEf12p9D"
      },
      "source": [
        "\n",
        "6. Binarization\n",
        "Thresholding numerical values to binary values ( 0 or 1 )\n",
        "A few learning algorithms assume data to be in Bernoulli distribution - Bernoulli's Naive Bayes"
      ]
    },
    {
      "cell_type": "code",
      "metadata": {
        "id": "x-4nGGR02qd1"
      },
      "source": [
        "X = np.array([[ 1., -1.,  2.],\n",
        "              [ 2.,  0.,  0.],\n",
        "              [ 0.,  1., -1.]])"
      ],
      "execution_count": 31,
      "outputs": []
    },
    {
      "cell_type": "code",
      "metadata": {
        "id": "zYDvfwSp2tn6"
      },
      "source": [
        "from sklearn.preprocessing import Binarizer\n",
        "binarizer = Binarizer()"
      ],
      "execution_count": 32,
      "outputs": []
    },
    {
      "cell_type": "code",
      "metadata": {
        "id": "4zpX4GwV2wCI"
      },
      "source": [
        "data_tf = binarizer.fit_transform(X)"
      ],
      "execution_count": 33,
      "outputs": []
    },
    {
      "cell_type": "code",
      "metadata": {
        "id": "mQSDqdSC2zS5",
        "outputId": "5338ee2c-72a0-4734-a7e0-b6ed5c818ae2",
        "colab": {
          "base_uri": "https://localhost:8080/",
          "height": 68
        }
      },
      "source": [
        "data_tf"
      ],
      "execution_count": 34,
      "outputs": [
        {
          "output_type": "execute_result",
          "data": {
            "text/plain": [
              "array([[1., 0., 1.],\n",
              "       [1., 0., 0.],\n",
              "       [0., 1., 0.]])"
            ]
          },
          "metadata": {
            "tags": []
          },
          "execution_count": 34
        }
      ]
    },
    {
      "cell_type": "markdown",
      "metadata": {
        "id": "aEArEAiK27wj"
      },
      "source": [
        "7. Encoding Categorical Values\n",
        "Encoding Ordinal Values\n",
        "Ordinal Values - Low, Medium & High. Relationship between values\n",
        "LabelEncoding with right mapping"
      ]
    },
    {
      "cell_type": "code",
      "metadata": {
        "id": "LC8O_8AB28hD"
      },
      "source": [
        "df = pd.DataFrame({\n",
        "    'Age':[33,44,22,44,55,22],\n",
        "    'Income':['Low','Low','High','Medium','Medium','High']})"
      ],
      "execution_count": 36,
      "outputs": []
    },
    {
      "cell_type": "code",
      "metadata": {
        "id": "C2C-iwey3kwQ",
        "outputId": "fae9fdce-0425-4009-b04b-2db28b9405ec",
        "colab": {
          "base_uri": "https://localhost:8080/",
          "height": 235
        }
      },
      "source": [
        "\n",
        "df"
      ],
      "execution_count": 37,
      "outputs": [
        {
          "output_type": "execute_result",
          "data": {
            "text/html": [
              "<div>\n",
              "<style scoped>\n",
              "    .dataframe tbody tr th:only-of-type {\n",
              "        vertical-align: middle;\n",
              "    }\n",
              "\n",
              "    .dataframe tbody tr th {\n",
              "        vertical-align: top;\n",
              "    }\n",
              "\n",
              "    .dataframe thead th {\n",
              "        text-align: right;\n",
              "    }\n",
              "</style>\n",
              "<table border=\"1\" class=\"dataframe\">\n",
              "  <thead>\n",
              "    <tr style=\"text-align: right;\">\n",
              "      <th></th>\n",
              "      <th>Age</th>\n",
              "      <th>Income</th>\n",
              "    </tr>\n",
              "  </thead>\n",
              "  <tbody>\n",
              "    <tr>\n",
              "      <th>0</th>\n",
              "      <td>33</td>\n",
              "      <td>Low</td>\n",
              "    </tr>\n",
              "    <tr>\n",
              "      <th>1</th>\n",
              "      <td>44</td>\n",
              "      <td>Low</td>\n",
              "    </tr>\n",
              "    <tr>\n",
              "      <th>2</th>\n",
              "      <td>22</td>\n",
              "      <td>High</td>\n",
              "    </tr>\n",
              "    <tr>\n",
              "      <th>3</th>\n",
              "      <td>44</td>\n",
              "      <td>Medium</td>\n",
              "    </tr>\n",
              "    <tr>\n",
              "      <th>4</th>\n",
              "      <td>55</td>\n",
              "      <td>Medium</td>\n",
              "    </tr>\n",
              "    <tr>\n",
              "      <th>5</th>\n",
              "      <td>22</td>\n",
              "      <td>High</td>\n",
              "    </tr>\n",
              "  </tbody>\n",
              "</table>\n",
              "</div>"
            ],
            "text/plain": [
              "   Age  Income\n",
              "0   33     Low\n",
              "1   44     Low\n",
              "2   22    High\n",
              "3   44  Medium\n",
              "4   55  Medium\n",
              "5   22    High"
            ]
          },
          "metadata": {
            "tags": []
          },
          "execution_count": 37
        }
      ]
    },
    {
      "cell_type": "code",
      "metadata": {
        "id": "N-_aVo9J3mvw",
        "outputId": "ecceb64f-1331-4cca-d30b-29317243d2de",
        "colab": {
          "base_uri": "https://localhost:8080/",
          "height": 136
        }
      },
      "source": [
        "df.Income.map({'Low':1,'Medium':2,'High':3})"
      ],
      "execution_count": 38,
      "outputs": [
        {
          "output_type": "execute_result",
          "data": {
            "text/plain": [
              "0    1\n",
              "1    1\n",
              "2    3\n",
              "3    2\n",
              "4    2\n",
              "5    3\n",
              "Name: Income, dtype: int64"
            ]
          },
          "metadata": {
            "tags": []
          },
          "execution_count": 38
        }
      ]
    },
    {
      "cell_type": "markdown",
      "metadata": {
        "id": "BKAQYq0V31wz"
      },
      "source": [
        "Encoding Nominal Values\n",
        "Nominal Values - Male, Female. No relationship between data\n",
        "One Hot Encoding for converting data into one-hot vector"
      ]
    },
    {
      "cell_type": "code",
      "metadata": {
        "id": "ZQ52FlIS34xI"
      },
      "source": [
        "\n",
        "df = pd.DataFrame({\n",
        "    'Age':[33,44,22,44,55,22],\n",
        "    'Gender':['Male','Female','Male','Female','Male','Male']})"
      ],
      "execution_count": 39,
      "outputs": []
    },
    {
      "cell_type": "code",
      "metadata": {
        "id": "ZH0d4UNg4DYL",
        "outputId": "da6a79f0-70ff-424c-e045-feaa5f089106",
        "colab": {
          "base_uri": "https://localhost:8080/",
          "height": 34
        }
      },
      "source": [
        "df.Gender.unique()"
      ],
      "execution_count": 40,
      "outputs": [
        {
          "output_type": "execute_result",
          "data": {
            "text/plain": [
              "array(['Male', 'Female'], dtype=object)"
            ]
          },
          "metadata": {
            "tags": []
          },
          "execution_count": 40
        }
      ]
    },
    {
      "cell_type": "code",
      "metadata": {
        "id": "nDDPqbhy4G4h"
      },
      "source": [
        "from sklearn.preprocessing import LabelEncoder,OneHotEncoder"
      ],
      "execution_count": 41,
      "outputs": []
    },
    {
      "cell_type": "code",
      "metadata": {
        "id": "EdXc0-aN4Isi"
      },
      "source": [
        "le = LabelEncoder()\n",
        "df['gender_tf'] = le.fit_transform(df.Gender)"
      ],
      "execution_count": 42,
      "outputs": []
    },
    {
      "cell_type": "code",
      "metadata": {
        "id": "H4EJbQLU4L2R",
        "outputId": "542837b3-c9ba-4f02-b1b0-454065089f05",
        "colab": {
          "base_uri": "https://localhost:8080/",
          "height": 235
        }
      },
      "source": [
        "df"
      ],
      "execution_count": 43,
      "outputs": [
        {
          "output_type": "execute_result",
          "data": {
            "text/html": [
              "<div>\n",
              "<style scoped>\n",
              "    .dataframe tbody tr th:only-of-type {\n",
              "        vertical-align: middle;\n",
              "    }\n",
              "\n",
              "    .dataframe tbody tr th {\n",
              "        vertical-align: top;\n",
              "    }\n",
              "\n",
              "    .dataframe thead th {\n",
              "        text-align: right;\n",
              "    }\n",
              "</style>\n",
              "<table border=\"1\" class=\"dataframe\">\n",
              "  <thead>\n",
              "    <tr style=\"text-align: right;\">\n",
              "      <th></th>\n",
              "      <th>Age</th>\n",
              "      <th>Gender</th>\n",
              "      <th>gender_tf</th>\n",
              "    </tr>\n",
              "  </thead>\n",
              "  <tbody>\n",
              "    <tr>\n",
              "      <th>0</th>\n",
              "      <td>33</td>\n",
              "      <td>Male</td>\n",
              "      <td>1</td>\n",
              "    </tr>\n",
              "    <tr>\n",
              "      <th>1</th>\n",
              "      <td>44</td>\n",
              "      <td>Female</td>\n",
              "      <td>0</td>\n",
              "    </tr>\n",
              "    <tr>\n",
              "      <th>2</th>\n",
              "      <td>22</td>\n",
              "      <td>Male</td>\n",
              "      <td>1</td>\n",
              "    </tr>\n",
              "    <tr>\n",
              "      <th>3</th>\n",
              "      <td>44</td>\n",
              "      <td>Female</td>\n",
              "      <td>0</td>\n",
              "    </tr>\n",
              "    <tr>\n",
              "      <th>4</th>\n",
              "      <td>55</td>\n",
              "      <td>Male</td>\n",
              "      <td>1</td>\n",
              "    </tr>\n",
              "    <tr>\n",
              "      <th>5</th>\n",
              "      <td>22</td>\n",
              "      <td>Male</td>\n",
              "      <td>1</td>\n",
              "    </tr>\n",
              "  </tbody>\n",
              "</table>\n",
              "</div>"
            ],
            "text/plain": [
              "   Age  Gender  gender_tf\n",
              "0   33    Male          1\n",
              "1   44  Female          0\n",
              "2   22    Male          1\n",
              "3   44  Female          0\n",
              "4   55    Male          1\n",
              "5   22    Male          1"
            ]
          },
          "metadata": {
            "tags": []
          },
          "execution_count": 43
        }
      ]
    },
    {
      "cell_type": "code",
      "metadata": {
        "id": "NqMUxqaS4OBu",
        "outputId": "f62df91f-e638-4577-95a8-93b11c46170a",
        "colab": {
          "base_uri": "https://localhost:8080/",
          "height": 119
        }
      },
      "source": [
        "OneHotEncoder().fit_transform(df[['gender_tf']]).toarray()"
      ],
      "execution_count": 44,
      "outputs": [
        {
          "output_type": "execute_result",
          "data": {
            "text/plain": [
              "array([[0., 1.],\n",
              "       [1., 0.],\n",
              "       [0., 1.],\n",
              "       [1., 0.],\n",
              "       [0., 1.],\n",
              "       [0., 1.]])"
            ]
          },
          "metadata": {
            "tags": []
          },
          "execution_count": 44
        }
      ]
    },
    {
      "cell_type": "markdown",
      "metadata": {
        "id": "985LdQIL4WY1"
      },
      "source": [
        "8. Imputation\n",
        "Missing values cannot be processed by learning algorithms\n",
        "Imputers can be used to infer value of missing data from existing data"
      ]
    },
    {
      "cell_type": "code",
      "metadata": {
        "id": "094GhXhJ4W7F"
      },
      "source": [
        "df = pd.DataFrame({\n",
        "    'A':[1,2,3,4,np.nan,7],\n",
        "    'B':[3,4,1,np.nan,4,5]\n",
        "})"
      ],
      "execution_count": 45,
      "outputs": []
    },
    {
      "cell_type": "code",
      "metadata": {
        "id": "8CTeWrVA4ZaP"
      },
      "source": [
        "from sklearn.impute import SimpleImputer\n",
        "imputer = SimpleImputer(missing_values=np.nan, strategy='mean')"
      ],
      "execution_count": 46,
      "outputs": []
    },
    {
      "cell_type": "code",
      "metadata": {
        "id": "p6LX9S6K4cLp",
        "outputId": "6cf1897d-bf0b-4765-82a0-0e401fe6a0c0",
        "colab": {
          "base_uri": "https://localhost:8080/",
          "height": 119
        }
      },
      "source": [
        "\n",
        "imputer.fit_transform(df)"
      ],
      "execution_count": 47,
      "outputs": [
        {
          "output_type": "execute_result",
          "data": {
            "text/plain": [
              "array([[1. , 3. ],\n",
              "       [2. , 4. ],\n",
              "       [3. , 1. ],\n",
              "       [4. , 3.4],\n",
              "       [3.4, 4. ],\n",
              "       [7. , 5. ]])"
            ]
          },
          "metadata": {
            "tags": []
          },
          "execution_count": 47
        }
      ]
    },
    {
      "cell_type": "markdown",
      "metadata": {
        "id": "7x1GswG-4hNt"
      },
      "source": [
        "9. Polynomial Features¶\n",
        "Deriving non-linear feature by coverting data into higher degree\n",
        "Used with polynomial regression to learn model of higher degree"
      ]
    },
    {
      "cell_type": "code",
      "metadata": {
        "id": "bd_1bMEV4hqi",
        "outputId": "100712b2-f85d-4138-f372-ad3ae1525120",
        "colab": {
          "base_uri": "https://localhost:8080/",
          "height": 204
        }
      },
      "source": [
        "df = pd.DataFrame({'A':[1,2,3,4,5], 'B':[2,3,4,5,6]})\n",
        "df"
      ],
      "execution_count": 48,
      "outputs": [
        {
          "output_type": "execute_result",
          "data": {
            "text/html": [
              "<div>\n",
              "<style scoped>\n",
              "    .dataframe tbody tr th:only-of-type {\n",
              "        vertical-align: middle;\n",
              "    }\n",
              "\n",
              "    .dataframe tbody tr th {\n",
              "        vertical-align: top;\n",
              "    }\n",
              "\n",
              "    .dataframe thead th {\n",
              "        text-align: right;\n",
              "    }\n",
              "</style>\n",
              "<table border=\"1\" class=\"dataframe\">\n",
              "  <thead>\n",
              "    <tr style=\"text-align: right;\">\n",
              "      <th></th>\n",
              "      <th>A</th>\n",
              "      <th>B</th>\n",
              "    </tr>\n",
              "  </thead>\n",
              "  <tbody>\n",
              "    <tr>\n",
              "      <th>0</th>\n",
              "      <td>1</td>\n",
              "      <td>2</td>\n",
              "    </tr>\n",
              "    <tr>\n",
              "      <th>1</th>\n",
              "      <td>2</td>\n",
              "      <td>3</td>\n",
              "    </tr>\n",
              "    <tr>\n",
              "      <th>2</th>\n",
              "      <td>3</td>\n",
              "      <td>4</td>\n",
              "    </tr>\n",
              "    <tr>\n",
              "      <th>3</th>\n",
              "      <td>4</td>\n",
              "      <td>5</td>\n",
              "    </tr>\n",
              "    <tr>\n",
              "      <th>4</th>\n",
              "      <td>5</td>\n",
              "      <td>6</td>\n",
              "    </tr>\n",
              "  </tbody>\n",
              "</table>\n",
              "</div>"
            ],
            "text/plain": [
              "   A  B\n",
              "0  1  2\n",
              "1  2  3\n",
              "2  3  4\n",
              "3  4  5\n",
              "4  5  6"
            ]
          },
          "metadata": {
            "tags": []
          },
          "execution_count": 48
        }
      ]
    },
    {
      "cell_type": "code",
      "metadata": {
        "id": "7i9RPmJ34kc8"
      },
      "source": [
        "\n",
        "from sklearn.preprocessing import PolynomialFeatures\n",
        "pol = PolynomialFeatures(degree=2)"
      ],
      "execution_count": 49,
      "outputs": []
    },
    {
      "cell_type": "code",
      "metadata": {
        "id": "R9F8o-Vs4mEa",
        "outputId": "29f7d63e-35fd-41c2-a90f-349c5aed19c8",
        "colab": {
          "base_uri": "https://localhost:8080/",
          "height": 102
        }
      },
      "source": [
        "pol.fit_transform(df) \n"
      ],
      "execution_count": 50,
      "outputs": [
        {
          "output_type": "execute_result",
          "data": {
            "text/plain": [
              "array([[ 1.,  1.,  2.,  1.,  2.,  4.],\n",
              "       [ 1.,  2.,  3.,  4.,  6.,  9.],\n",
              "       [ 1.,  3.,  4.,  9., 12., 16.],\n",
              "       [ 1.,  4.,  5., 16., 20., 25.],\n",
              "       [ 1.,  5.,  6., 25., 30., 36.]])"
            ]
          },
          "metadata": {
            "tags": []
          },
          "execution_count": 50
        }
      ]
    },
    {
      "cell_type": "markdown",
      "metadata": {
        "id": "OZQfkHVs4s2K"
      },
      "source": [
        "10. Custom Transformer\n",
        "Often, you will want to convert an existing Python function into a transformer to assist in data cleaning or processing.\n",
        "FunctionTransformer is used to create one Transformer\n",
        "validate = False, is required for string columns"
      ]
    },
    {
      "cell_type": "code",
      "metadata": {
        "id": "p2DySv_Q4tc_"
      },
      "source": [
        "\n",
        "from sklearn.preprocessing import FunctionTransformer"
      ],
      "execution_count": 51,
      "outputs": []
    },
    {
      "cell_type": "code",
      "metadata": {
        "id": "7KabcjEY4vhX"
      },
      "source": [
        "def mapping(x):\n",
        "    x['Age'] = x['Age']+2\n",
        "    x['Counter'] = x['Counter'] * 2\n",
        "    return x"
      ],
      "execution_count": 52,
      "outputs": []
    },
    {
      "cell_type": "code",
      "metadata": {
        "id": "vcYJXFTg4xgr"
      },
      "source": [
        "customtransformer = FunctionTransformer(mapping, validate=False)"
      ],
      "execution_count": 53,
      "outputs": []
    },
    {
      "cell_type": "code",
      "metadata": {
        "id": "7kvQvy164zwX",
        "outputId": "82b58c0c-4e26-48fc-faa6-4859449ce9e2",
        "colab": {
          "base_uri": "https://localhost:8080/",
          "height": 235
        }
      },
      "source": [
        "\n",
        "df = pd.DataFrame({\n",
        "    'Age':[33,44,22,44,55,22],\n",
        "    'Counter':[3,4,2,4,5,2],\n",
        "     })\n",
        "df"
      ],
      "execution_count": 54,
      "outputs": [
        {
          "output_type": "execute_result",
          "data": {
            "text/html": [
              "<div>\n",
              "<style scoped>\n",
              "    .dataframe tbody tr th:only-of-type {\n",
              "        vertical-align: middle;\n",
              "    }\n",
              "\n",
              "    .dataframe tbody tr th {\n",
              "        vertical-align: top;\n",
              "    }\n",
              "\n",
              "    .dataframe thead th {\n",
              "        text-align: right;\n",
              "    }\n",
              "</style>\n",
              "<table border=\"1\" class=\"dataframe\">\n",
              "  <thead>\n",
              "    <tr style=\"text-align: right;\">\n",
              "      <th></th>\n",
              "      <th>Age</th>\n",
              "      <th>Counter</th>\n",
              "    </tr>\n",
              "  </thead>\n",
              "  <tbody>\n",
              "    <tr>\n",
              "      <th>0</th>\n",
              "      <td>33</td>\n",
              "      <td>3</td>\n",
              "    </tr>\n",
              "    <tr>\n",
              "      <th>1</th>\n",
              "      <td>44</td>\n",
              "      <td>4</td>\n",
              "    </tr>\n",
              "    <tr>\n",
              "      <th>2</th>\n",
              "      <td>22</td>\n",
              "      <td>2</td>\n",
              "    </tr>\n",
              "    <tr>\n",
              "      <th>3</th>\n",
              "      <td>44</td>\n",
              "      <td>4</td>\n",
              "    </tr>\n",
              "    <tr>\n",
              "      <th>4</th>\n",
              "      <td>55</td>\n",
              "      <td>5</td>\n",
              "    </tr>\n",
              "    <tr>\n",
              "      <th>5</th>\n",
              "      <td>22</td>\n",
              "      <td>2</td>\n",
              "    </tr>\n",
              "  </tbody>\n",
              "</table>\n",
              "</div>"
            ],
            "text/plain": [
              "   Age  Counter\n",
              "0   33        3\n",
              "1   44        4\n",
              "2   22        2\n",
              "3   44        4\n",
              "4   55        5\n",
              "5   22        2"
            ]
          },
          "metadata": {
            "tags": []
          },
          "execution_count": 54
        }
      ]
    },
    {
      "cell_type": "code",
      "metadata": {
        "id": "xXCi1mte412y",
        "outputId": "ac42f278-090d-4e4d-9b58-651bd2e02e99",
        "colab": {
          "base_uri": "https://localhost:8080/",
          "height": 235
        }
      },
      "source": [
        "customtransformer.transform(df)"
      ],
      "execution_count": 55,
      "outputs": [
        {
          "output_type": "execute_result",
          "data": {
            "text/html": [
              "<div>\n",
              "<style scoped>\n",
              "    .dataframe tbody tr th:only-of-type {\n",
              "        vertical-align: middle;\n",
              "    }\n",
              "\n",
              "    .dataframe tbody tr th {\n",
              "        vertical-align: top;\n",
              "    }\n",
              "\n",
              "    .dataframe thead th {\n",
              "        text-align: right;\n",
              "    }\n",
              "</style>\n",
              "<table border=\"1\" class=\"dataframe\">\n",
              "  <thead>\n",
              "    <tr style=\"text-align: right;\">\n",
              "      <th></th>\n",
              "      <th>Age</th>\n",
              "      <th>Counter</th>\n",
              "    </tr>\n",
              "  </thead>\n",
              "  <tbody>\n",
              "    <tr>\n",
              "      <th>0</th>\n",
              "      <td>35</td>\n",
              "      <td>6</td>\n",
              "    </tr>\n",
              "    <tr>\n",
              "      <th>1</th>\n",
              "      <td>46</td>\n",
              "      <td>8</td>\n",
              "    </tr>\n",
              "    <tr>\n",
              "      <th>2</th>\n",
              "      <td>24</td>\n",
              "      <td>4</td>\n",
              "    </tr>\n",
              "    <tr>\n",
              "      <th>3</th>\n",
              "      <td>46</td>\n",
              "      <td>8</td>\n",
              "    </tr>\n",
              "    <tr>\n",
              "      <th>4</th>\n",
              "      <td>57</td>\n",
              "      <td>10</td>\n",
              "    </tr>\n",
              "    <tr>\n",
              "      <th>5</th>\n",
              "      <td>24</td>\n",
              "      <td>4</td>\n",
              "    </tr>\n",
              "  </tbody>\n",
              "</table>\n",
              "</div>"
            ],
            "text/plain": [
              "   Age  Counter\n",
              "0   35        6\n",
              "1   46        8\n",
              "2   24        4\n",
              "3   46        8\n",
              "4   57       10\n",
              "5   24        4"
            ]
          },
          "metadata": {
            "tags": []
          },
          "execution_count": 55
        }
      ]
    },
    {
      "cell_type": "markdown",
      "metadata": {
        "id": "8pTmIFso5AG2"
      },
      "source": [
        "11. Text Processing\n",
        "Perhaps one of the most common information\n",
        "Learning algorithms don't understand text but only numbers\n",
        "Below menthods convert text to numbers\n",
        "12. CountVectorizer\n",
        "Each column represents one word, count refers to frequency of the word\n",
        "Sequence of words are not maintained\n",
        "Hyperparameters\n",
        "n_grams - Number of words considered for each column\n",
        "stop_words - words not considered\n",
        "vocabulary - only words considered"
      ]
    },
    {
      "cell_type": "code",
      "metadata": {
        "id": "DR5BeyVP5AxP",
        "outputId": "39981e94-1ba7-411f-bb1b-dabc261a9105",
        "colab": {
          "base_uri": "https://localhost:8080/",
          "height": 173
        }
      },
      "source": [
        "corpus = [\n",
        "     'This is the first document awesome food.',\n",
        "     'This is the second second document.',\n",
        "     'And the third one the is mission impossible.',\n",
        "     'Is this the first document?',\n",
        "]\n",
        "df = pd.DataFrame({'Text':corpus})\n",
        "df"
      ],
      "execution_count": 56,
      "outputs": [
        {
          "output_type": "execute_result",
          "data": {
            "text/html": [
              "<div>\n",
              "<style scoped>\n",
              "    .dataframe tbody tr th:only-of-type {\n",
              "        vertical-align: middle;\n",
              "    }\n",
              "\n",
              "    .dataframe tbody tr th {\n",
              "        vertical-align: top;\n",
              "    }\n",
              "\n",
              "    .dataframe thead th {\n",
              "        text-align: right;\n",
              "    }\n",
              "</style>\n",
              "<table border=\"1\" class=\"dataframe\">\n",
              "  <thead>\n",
              "    <tr style=\"text-align: right;\">\n",
              "      <th></th>\n",
              "      <th>Text</th>\n",
              "    </tr>\n",
              "  </thead>\n",
              "  <tbody>\n",
              "    <tr>\n",
              "      <th>0</th>\n",
              "      <td>This is the first document awesome food.</td>\n",
              "    </tr>\n",
              "    <tr>\n",
              "      <th>1</th>\n",
              "      <td>This is the second second document.</td>\n",
              "    </tr>\n",
              "    <tr>\n",
              "      <th>2</th>\n",
              "      <td>And the third one the is mission impossible.</td>\n",
              "    </tr>\n",
              "    <tr>\n",
              "      <th>3</th>\n",
              "      <td>Is this the first document?</td>\n",
              "    </tr>\n",
              "  </tbody>\n",
              "</table>\n",
              "</div>"
            ],
            "text/plain": [
              "                                           Text\n",
              "0      This is the first document awesome food.\n",
              "1           This is the second second document.\n",
              "2  And the third one the is mission impossible.\n",
              "3                   Is this the first document?"
            ]
          },
          "metadata": {
            "tags": []
          },
          "execution_count": 56
        }
      ]
    },
    {
      "cell_type": "code",
      "metadata": {
        "id": "n9indbsX5D4K"
      },
      "source": [
        "from sklearn.feature_extraction.text import CountVectorizer\n",
        "cv = CountVectorizer()"
      ],
      "execution_count": 57,
      "outputs": []
    },
    {
      "cell_type": "code",
      "metadata": {
        "id": "o6CTD-EY5GtC",
        "outputId": "f6c299bc-b0bf-49b0-9e41-ca79a0d18cfb",
        "colab": {
          "base_uri": "https://localhost:8080/",
          "height": 85
        }
      },
      "source": [
        "cv.fit_transform(df.Text).toarray()"
      ],
      "execution_count": 58,
      "outputs": [
        {
          "output_type": "execute_result",
          "data": {
            "text/plain": [
              "array([[0, 1, 1, 1, 1, 0, 1, 0, 0, 0, 1, 0, 1],\n",
              "       [0, 0, 1, 0, 0, 0, 1, 0, 0, 2, 1, 0, 1],\n",
              "       [1, 0, 0, 0, 0, 1, 1, 1, 1, 0, 2, 1, 0],\n",
              "       [0, 0, 1, 1, 0, 0, 1, 0, 0, 0, 1, 0, 1]])"
            ]
          },
          "metadata": {
            "tags": []
          },
          "execution_count": 58
        }
      ]
    },
    {
      "cell_type": "code",
      "metadata": {
        "id": "Nc3251BK5Imk",
        "outputId": "4ecefa5c-1757-49fb-ddfa-3c4e2761eb99",
        "colab": {
          "base_uri": "https://localhost:8080/",
          "height": 238
        }
      },
      "source": [
        "cv.vocabulary_"
      ],
      "execution_count": 59,
      "outputs": [
        {
          "output_type": "execute_result",
          "data": {
            "text/plain": [
              "{'and': 0,\n",
              " 'awesome': 1,\n",
              " 'document': 2,\n",
              " 'first': 3,\n",
              " 'food': 4,\n",
              " 'impossible': 5,\n",
              " 'is': 6,\n",
              " 'mission': 7,\n",
              " 'one': 8,\n",
              " 'second': 9,\n",
              " 'the': 10,\n",
              " 'third': 11,\n",
              " 'this': 12}"
            ]
          },
          "metadata": {
            "tags": []
          },
          "execution_count": 59
        }
      ]
    },
    {
      "cell_type": "code",
      "metadata": {
        "id": "EZcGRyeT5KJo",
        "outputId": "e283285c-e31d-429d-f49f-0e1a94f8ef1b",
        "colab": {
          "base_uri": "https://localhost:8080/",
          "height": 85
        }
      },
      "source": [
        "cv = CountVectorizer(stop_words=['the','is'])\n",
        "cv.fit_transform(df.Text).toarray()"
      ],
      "execution_count": 60,
      "outputs": [
        {
          "output_type": "execute_result",
          "data": {
            "text/plain": [
              "array([[0, 1, 1, 1, 1, 0, 0, 0, 0, 0, 1],\n",
              "       [0, 0, 1, 0, 0, 0, 0, 0, 2, 0, 1],\n",
              "       [1, 0, 0, 0, 0, 1, 1, 1, 0, 1, 0],\n",
              "       [0, 0, 1, 1, 0, 0, 0, 0, 0, 0, 1]])"
            ]
          },
          "metadata": {
            "tags": []
          },
          "execution_count": 60
        }
      ]
    },
    {
      "cell_type": "code",
      "metadata": {
        "id": "okwp5_pe5Nlk",
        "outputId": "7e2adb5f-3b88-40e2-fa4f-2d51a9d9c20e",
        "colab": {
          "base_uri": "https://localhost:8080/",
          "height": 204
        }
      },
      "source": [
        "cv.vocabulary_"
      ],
      "execution_count": 61,
      "outputs": [
        {
          "output_type": "execute_result",
          "data": {
            "text/plain": [
              "{'and': 0,\n",
              " 'awesome': 1,\n",
              " 'document': 2,\n",
              " 'first': 3,\n",
              " 'food': 4,\n",
              " 'impossible': 5,\n",
              " 'mission': 6,\n",
              " 'one': 7,\n",
              " 'second': 8,\n",
              " 'third': 9,\n",
              " 'this': 10}"
            ]
          },
          "metadata": {
            "tags": []
          },
          "execution_count": 61
        }
      ]
    },
    {
      "cell_type": "code",
      "metadata": {
        "id": "du9UyI9B5Pth",
        "outputId": "bb669141-ea7f-4064-fb8a-39fe62e003b6",
        "colab": {
          "base_uri": "https://localhost:8080/",
          "height": 85
        }
      },
      "source": [
        "cv = CountVectorizer(vocabulary=['mission','food','second'])\n",
        "cv.fit_transform(df.Text).toarray()  \n"
      ],
      "execution_count": 62,
      "outputs": [
        {
          "output_type": "execute_result",
          "data": {
            "text/plain": [
              "array([[0, 1, 0],\n",
              "       [0, 0, 2],\n",
              "       [1, 0, 0],\n",
              "       [0, 0, 0]])"
            ]
          },
          "metadata": {
            "tags": []
          },
          "execution_count": 62
        }
      ]
    },
    {
      "cell_type": "code",
      "metadata": {
        "id": "MvyQb7Px5UXV",
        "outputId": "5b4d781a-ba83-4ab9-e256-37332e0f39ce",
        "colab": {
          "base_uri": "https://localhost:8080/",
          "height": 153
        }
      },
      "source": [
        "cv = CountVectorizer(ngram_range=[1,2])\n",
        "cv.fit_transform(df.Text).toarray()"
      ],
      "execution_count": 63,
      "outputs": [
        {
          "output_type": "execute_result",
          "data": {
            "text/plain": [
              "array([[0, 0, 1, 1, 1, 1, 1, 1, 1, 0, 1, 0, 1, 0, 0, 0, 0, 0, 0, 0, 0, 1,\n",
              "        1, 0, 0, 0, 0, 0, 1, 1, 0],\n",
              "       [0, 0, 0, 0, 1, 0, 0, 0, 0, 0, 1, 0, 1, 0, 0, 0, 0, 0, 2, 1, 1, 1,\n",
              "        0, 0, 1, 0, 0, 0, 1, 1, 0],\n",
              "       [1, 1, 0, 0, 0, 0, 0, 0, 0, 1, 1, 1, 0, 0, 1, 1, 1, 1, 0, 0, 0, 2,\n",
              "        0, 1, 0, 1, 1, 1, 0, 0, 0],\n",
              "       [0, 0, 0, 0, 1, 0, 1, 1, 0, 0, 1, 0, 0, 1, 0, 0, 0, 0, 0, 0, 0, 1,\n",
              "        1, 0, 0, 0, 0, 0, 1, 0, 1]])"
            ]
          },
          "metadata": {
            "tags": []
          },
          "execution_count": 63
        }
      ]
    },
    {
      "cell_type": "code",
      "metadata": {
        "id": "VU6WAAy45Y1x",
        "outputId": "20fe7d32-243f-420f-fa4f-84d1f23734b4",
        "colab": {
          "base_uri": "https://localhost:8080/",
          "height": 544
        }
      },
      "source": [
        "cv.vocabulary_"
      ],
      "execution_count": 64,
      "outputs": [
        {
          "output_type": "execute_result",
          "data": {
            "text/plain": [
              "{'and': 0,\n",
              " 'and the': 1,\n",
              " 'awesome': 2,\n",
              " 'awesome food': 3,\n",
              " 'document': 4,\n",
              " 'document awesome': 5,\n",
              " 'first': 6,\n",
              " 'first document': 7,\n",
              " 'food': 8,\n",
              " 'impossible': 9,\n",
              " 'is': 10,\n",
              " 'is mission': 11,\n",
              " 'is the': 12,\n",
              " 'is this': 13,\n",
              " 'mission': 14,\n",
              " 'mission impossible': 15,\n",
              " 'one': 16,\n",
              " 'one the': 17,\n",
              " 'second': 18,\n",
              " 'second document': 19,\n",
              " 'second second': 20,\n",
              " 'the': 21,\n",
              " 'the first': 22,\n",
              " 'the is': 23,\n",
              " 'the second': 24,\n",
              " 'the third': 25,\n",
              " 'third': 26,\n",
              " 'third one': 27,\n",
              " 'this': 28,\n",
              " 'this is': 29,\n",
              " 'this the': 30}"
            ]
          },
          "metadata": {
            "tags": []
          },
          "execution_count": 64
        }
      ]
    },
    {
      "cell_type": "markdown",
      "metadata": {
        "id": "UL8yIXjp5dwo"
      },
      "source": [
        "13. TfId fVectorizer¶\n",
        "TF-IDF is an abbreviation for Term Frequency Inverse Document Frequency. This is very common algorithm to transform text into a meaningful representation of numbers which is used to fit machine algorithm for prediction.\n",
        "\n",
        "Words occuring more frequently in a doc versus entire corpus is considered more important\n",
        "The importance is in scale of 0 & 1"
      ]
    },
    {
      "cell_type": "code",
      "metadata": {
        "id": "FtqGkIRA5foG"
      },
      "source": [
        "from sklearn.feature_extraction.text import TfidfVectorizer\n",
        "vectorizer = TfidfVectorizer(stop_words='english')"
      ],
      "execution_count": 65,
      "outputs": []
    },
    {
      "cell_type": "code",
      "metadata": {
        "id": "ADHlzpd65htx",
        "outputId": "1a51dd48-7cf9-4e4f-9745-a87cc9651618",
        "colab": {
          "base_uri": "https://localhost:8080/",
          "height": 153
        }
      },
      "source": [
        "vectorizer.fit_transform(df.Text).toarray()"
      ],
      "execution_count": 66,
      "outputs": [
        {
          "output_type": "execute_result",
          "data": {
            "text/plain": [
              "array([[0.64450299, 0.41137791, 0.64450299, 0.        , 0.        ,\n",
              "        0.        ],\n",
              "       [0.        , 0.30403549, 0.        , 0.        , 0.        ,\n",
              "        0.9526607 ],\n",
              "       [0.        , 0.        , 0.        , 0.70710678, 0.70710678,\n",
              "        0.        ],\n",
              "       [0.        , 1.        , 0.        , 0.        , 0.        ,\n",
              "        0.        ]])"
            ]
          },
          "metadata": {
            "tags": []
          },
          "execution_count": 66
        }
      ]
    },
    {
      "cell_type": "code",
      "metadata": {
        "id": "NeTK58di5jXh",
        "outputId": "2a0f9a9f-27e9-428d-847e-cd52a8660bae",
        "colab": {
          "base_uri": "https://localhost:8080/",
          "height": 34
        }
      },
      "source": [
        "vectorizer.get_feature_names()"
      ],
      "execution_count": 67,
      "outputs": [
        {
          "output_type": "execute_result",
          "data": {
            "text/plain": [
              "['awesome', 'document', 'food', 'impossible', 'mission', 'second']"
            ]
          },
          "metadata": {
            "tags": []
          },
          "execution_count": 67
        }
      ]
    },
    {
      "cell_type": "markdown",
      "metadata": {
        "id": "RWLmjlqE5omQ"
      },
      "source": [
        "14. HashingVectorizer\n",
        "All above techniques converts data into table where each word is converted to column\n",
        "Learning on data with millions of columns is difficult to process\n",
        "HashingVectorizer is an useful technique for out-of-core learning\n",
        "Multiple words are hashed to limited column\n",
        "Limitation - Hashed value to word mapping is not possible"
      ]
    },
    {
      "cell_type": "code",
      "metadata": {
        "id": "5w6kdXcX5pOv"
      },
      "source": [
        "\n",
        "from sklearn.feature_extraction.text import HashingVectorizer\n",
        "hv = HashingVectorizer(n_features=5)"
      ],
      "execution_count": 68,
      "outputs": []
    },
    {
      "cell_type": "code",
      "metadata": {
        "id": "mL7ddvsC5r2W",
        "outputId": "f2c01535-b161-4f99-ad89-3edb908f4308",
        "colab": {
          "base_uri": "https://localhost:8080/",
          "height": 85
        }
      },
      "source": [
        "hv.fit_transform(df.Text).toarray()"
      ],
      "execution_count": 69,
      "outputs": [
        {
          "output_type": "execute_result",
          "data": {
            "text/plain": [
              "array([[ 0.        , -0.37796447,  0.75592895, -0.37796447,  0.37796447],\n",
              "       [ 0.81649658,  0.        ,  0.40824829, -0.40824829,  0.        ],\n",
              "       [-0.31622777,  0.        ,  0.31622777, -0.63245553, -0.63245553],\n",
              "       [ 0.        , -0.57735027,  0.57735027, -0.57735027,  0.        ]])"
            ]
          },
          "metadata": {
            "tags": []
          },
          "execution_count": 69
        }
      ]
    },
    {
      "cell_type": "markdown",
      "metadata": {
        "id": "ts0PBIwo5xTJ"
      },
      "source": [
        "15. Image Processing using skimage\n",
        "skimage doesn't come with anaconda. install with 'pip install skimage'\n",
        "Images should be converted from 0-255 scale to 0-1 scale.\n",
        "skimage takes image path & returns numpy array\n",
        "images consist of 3 dimension"
      ]
    }
  ]
}